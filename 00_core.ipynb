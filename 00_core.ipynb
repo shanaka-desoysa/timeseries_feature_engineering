{
  "nbformat": 4,
  "nbformat_minor": 0,
  "metadata": {
    "colab": {
      "name": "00_core.ipynb",
      "provenance": []
    },
    "kernelspec": {
      "display_name": "Python 3",
      "language": "python",
      "name": "python3"
    },
    "language_info": {
      "codemirror_mode": {
        "name": "ipython",
        "version": 3
      },
      "file_extension": ".py",
      "mimetype": "text/x-python",
      "name": "python",
      "nbconvert_exporter": "python",
      "pygments_lexer": "ipython3",
      "version": "3.8.5"
    }
  },
  "cells": [
    {
      "cell_type": "code",
      "metadata": {
        "id": "-JtjOzG5E5Oh"
      },
      "source": [
        "# default_exp core"
      ],
      "execution_count": null,
      "outputs": []
    },
    {
      "cell_type": "markdown",
      "metadata": {
        "id": "JGtFaHvPE5On"
      },
      "source": [
        "# module name here\n",
        "\n",
        "> API details."
      ]
    },
    {
      "cell_type": "code",
      "metadata": {
        "id": "5_Rzm5lPE5On"
      },
      "source": [
        "#hide\n",
        "from nbdev.showdoc import *"
      ],
      "execution_count": null,
      "outputs": []
    },
    {
      "cell_type": "code",
      "metadata": {
        "id": "fEuzprtpE5Oo"
      },
      "source": [
        "#export \n",
        "from __future__ import print_function, division\n",
        "\n",
        "import random\n",
        "\n",
        "\n",
        "class Card:\n",
        "    \"\"\"Represents a standard playing card.\n",
        "    \n",
        "    Attributes:\n",
        "      suit: integer 0-3\n",
        "      rank: integer 1-13\n",
        "    \"\"\"\n",
        "\n",
        "    suit_names = [\"Clubs\", \"Diamonds\", \"Hearts\", \"Spades\"]\n",
        "    rank_names = [None, \"Ace\", \"2\", \"3\", \"4\", \"5\", \"6\", \"7\", \n",
        "              \"8\", \"9\", \"10\", \"Jack\", \"Queen\", \"King\"]\n",
        "\n",
        "    def __init__(self, suit=0, rank=2):\n",
        "        self.suit = suit\n",
        "        self.rank = rank\n",
        "\n",
        "    def __str__(self):\n",
        "        \"\"\"Returns a human-readable string representation.\"\"\"\n",
        "        return '%s of %s' % (Card.rank_names[self.rank],\n",
        "                             Card.suit_names[self.suit])\n",
        "\n",
        "    def __eq__(self, other) -> bool:\n",
        "        \"\"\"Checks whether self and other have the same rank and suit.\n",
        "        \"\"\"\n",
        "        return self.suit == other.suit and self.rank == other.rank\n",
        "\n",
        "    def __lt__(self, other) -> bool:\n",
        "        \"\"\"Compares this card to other, first by suit, then rank.\n",
        "        \"\"\"\n",
        "        t1 = self.suit, self.rank\n",
        "        t2 = other.suit, other.rank\n",
        "        return t1 < t2\n",
        "    \n",
        "    def __repr__(self): return self.__str__()\n",
        "    \n",
        "    def foo(): pass"
      ],
      "execution_count": null,
      "outputs": []
    },
    {
      "cell_type": "markdown",
      "metadata": {
        "id": "mZrgxiJSHAns"
      },
      "source": [
        "Card is a class that represents a single card in a deck of cards. For example:"
      ]
    },
    {
      "cell_type": "code",
      "metadata": {
        "colab": {
          "base_uri": "https://localhost:8080/"
        },
        "id": "WR4Su24hHCBG",
        "outputId": "dfa94c3d-8229-4f06-8159-83e32ee37f65"
      },
      "source": [
        "Card(suit=2, rank=11)"
      ],
      "execution_count": null,
      "outputs": [
        {
          "output_type": "execute_result",
          "data": {
            "text/plain": [
              "Jack of Hearts"
            ]
          },
          "metadata": {
            "tags": []
          },
          "execution_count": 5
        }
      ]
    },
    {
      "cell_type": "code",
      "metadata": {
        "id": "McjYcQ_7G8xH"
      },
      "source": [
        "c = Card(suit=1, rank=3)\n",
        "assert str(c) == '3 of Diamonds'\n",
        "\n",
        "c2 = Card(suit=2, rank=11)\n",
        "assert str(c2) == 'Jack of Hearts'"
      ],
      "execution_count": null,
      "outputs": []
    },
    {
      "cell_type": "code",
      "metadata": {
        "id": "WlE-W2XnHFyH"
      },
      "source": [
        "assert c2 > c"
      ],
      "execution_count": null,
      "outputs": []
    },
    {
      "cell_type": "code",
      "metadata": {
        "colab": {
          "base_uri": "https://localhost:8080/",
          "height": 121
        },
        "id": "rOfvKHoxHH_g",
        "outputId": "988f93f6-0f29-45c7-e50e-151f6b7bf3b0"
      },
      "source": [
        "show_doc(Card.__eq__)"
      ],
      "execution_count": null,
      "outputs": [
        {
          "output_type": "display_data",
          "data": {
            "text/markdown": "<h4 id=\"Card.__eq__\" class=\"doc_header\"><code>Card.__eq__</code><a href=\"__main__.py#L28\" class=\"source_link\" style=\"float:right\">[source]</a></h4>\n\n> <code>Card.__eq__</code>(**`other`**)\n\nChecks whether self and other have the same rank and suit.\n        ",
            "text/plain": [
              "<IPython.core.display.Markdown object>"
            ]
          },
          "metadata": {
            "tags": []
          }
        }
      ]
    },
    {
      "cell_type": "code",
      "metadata": {
        "id": "hvj6j2ipHLYx"
      },
      "source": [
        "card1 = Card(suit=1, rank=3)\n",
        "card2 = Card(suit=1, rank=3)\n",
        "assert card1 == card2"
      ],
      "execution_count": null,
      "outputs": []
    },
    {
      "cell_type": "code",
      "metadata": {
        "id": "KdjVjo9HLE0V"
      },
      "source": [
        "# from fastai.tabular.all import *\n",
        "# https://www.analyticsvidhya.com/blog/2019/12/6-powerful-feature-engineering-techniques-time-series/\n",
        "\n",
        "def add_lag_features(df, field_name, prefix=None, lag_periods=[1]):\n",
        "    \"Helper function that adds lag features relevant to the column `field_name` of `df`.\"\n",
        "    field = df[field_name]\n",
        "    prefix = ifnone(prefix, field_name)\n",
        "    for n in lag_periods: df[f'{prefix}-{n}p'] = df[field_name].shift(n)\n",
        "    return df\n",
        "\n",
        "def add_lag_percentage_gain_features(df, field_name, prefix=None, lag_periods=[1]):\n",
        "    \"Helper function that adds lag percentage gain features relevant to the column `field_name` of `df`.\"\n",
        "    field = df[field_name]\n",
        "    prefix = ifnone(prefix, field_name)\n",
        "    for n in lag_periods:\n",
        "        df[f'{prefix}-{n}p_PG'] = df[field_name]/df[field_name].shift(n)\n",
        "    return df\n",
        "\n",
        "def add_moving_average_features(df, field_name, prefix=None, windows=[3], weighted=True):\n",
        "    \"Helper function that adds moving average (rolling window) features relevant to the column `field_name` of `df`.\"\n",
        "    field = df[field_name]\n",
        "    prefix = ifnone(prefix, field_name)\n",
        "    for n in windows:\n",
        "        if weighted:\n",
        "            weights = np.arange(1, n + 1)\n",
        "            df[f'{prefix}_{n}p_MA'] = df[field_name].rolling(\n",
        "                window=n).apply(lambda x: np.dot(x, weights) /\n",
        "                                       weights.sum(), raw=True)\n",
        "        else:\n",
        "            df[f'{prefix}_{n}p_MA'] = df[field_name].rolling(window=n).mean()\n",
        "    return df\n",
        "\n",
        "def add_moving_average_percentage_gain_features(df, field_name, prefix=None, windows=[3], weighted=True):\n",
        "    \"Helper function that adds moving average (rolling window) percentage gain features relevant to the column `field_name` of `df`.\"\n",
        "    field = df[field_name]\n",
        "    prefix = ifnone(prefix, field_name)\n",
        "    for n in windows:\n",
        "        if weighted:\n",
        "            weights = np.arange(1, n + 1)\n",
        "            df[f'{prefix}_{n}p_MA_PG'] = df[field_name]/df[field_name].rolling(\n",
        "                window=n).apply(lambda x: np.dot(x, weights) /\n",
        "                                       weights.sum(), raw=True)\n",
        "        else:\n",
        "            df[f'{prefix}_{n}p_MA_PG'] = df[field_name]/df[field_name].rolling(window=n).mean()\n",
        "    return df\n",
        "\n",
        "def add_expanding_features(df, field_name, prefix=None, period=7):\n",
        "    \"Helper function that adds expanding features relevant to the column `field_name` of `df`.\"\n",
        "    field = df[field_name]\n",
        "    prefix = ifnone(prefix, field_name)\n",
        "    for n in windows:\n",
        "        df[f'{prefix}_{n}p_expanding'] = df[field_name].expanding(n).mean()\n",
        "    return df\n",
        "\n",
        "def add_trend_features(df, field_name, prefix=None, windows=[3]):\n",
        "    \"Helper function that adds trend features relevant to the column `field_name` of `df`.\"\n",
        "    field = df[field_name]\n",
        "    prefix = ifnone(prefix, field_name)\n",
        "    for n in windows:\n",
        "        df[f'{prefix}_{n}p_trend'] = (df[field_name]\n",
        "                .rolling(window=n)\n",
        "                .mean()\n",
        "                .diff()\n",
        "                .fillna(0))\n",
        "    return df\n"
      ],
      "execution_count": null,
      "outputs": []
    }
  ]
}