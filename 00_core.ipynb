{
  "nbformat": 4,
  "nbformat_minor": 0,
  "metadata": {
    "kernelspec": {
      "display_name": "Python 3",
      "language": "python",
      "name": "python3"
    },
    "colab": {
      "name": "00_core.ipynb",
      "provenance": []
    }
  },
  "cells": [
    {
      "cell_type": "code",
      "metadata": {
        "id": "-JtjOzG5E5Oh"
      },
      "source": [
        "# default_exp core"
      ],
      "execution_count": 1,
      "outputs": []
    },
    {
      "cell_type": "code",
      "metadata": {
        "colab": {
          "base_uri": "https://localhost:8080/"
        },
        "id": "tRz4ea3kFyow",
        "outputId": "3f04720b-408f-44aa-b67d-b8b5b17da7fe"
      },
      "source": [
        "from google.colab import drive\n",
        "drive.mount('/content/drive')\n",
        "%cd 'drive/MyDrive/timeseries_feature_engineering'\n",
        "!pip3 install -e . -q\n",
        "!pip3 install nbdev -q"
      ],
      "execution_count": 2,
      "outputs": [
        {
          "output_type": "stream",
          "text": [
            "Drive already mounted at /content/drive; to attempt to forcibly remount, call drive.mount(\"/content/drive\", force_remount=True).\n",
            "/content/drive/MyDrive/timeseries_feature_engineering\n"
          ],
          "name": "stdout"
        }
      ]
    },
    {
      "cell_type": "markdown",
      "metadata": {
        "id": "JGtFaHvPE5On"
      },
      "source": [
        "# module name here\n",
        "\n",
        "> API details."
      ]
    },
    {
      "cell_type": "code",
      "metadata": {
        "id": "5_Rzm5lPE5On"
      },
      "source": [
        "#hide\n",
        "from nbdev.showdoc import *"
      ],
      "execution_count": 3,
      "outputs": []
    },
    {
      "cell_type": "code",
      "metadata": {
        "id": "fEuzprtpE5Oo"
      },
      "source": [
        "#export \n",
        "from __future__ import print_function, division\n",
        "\n",
        "import random\n",
        "\n",
        "\n",
        "class Card:\n",
        "    \"\"\"Represents a standard playing card.\n",
        "    \n",
        "    Attributes:\n",
        "      suit: integer 0-3\n",
        "      rank: integer 1-13\n",
        "    \"\"\"\n",
        "\n",
        "    suit_names = [\"Clubs\", \"Diamonds\", \"Hearts\", \"Spades\"]\n",
        "    rank_names = [None, \"Ace\", \"2\", \"3\", \"4\", \"5\", \"6\", \"7\", \n",
        "              \"8\", \"9\", \"10\", \"Jack\", \"Queen\", \"King\"]\n",
        "\n",
        "    def __init__(self, suit=0, rank=2):\n",
        "        self.suit = suit\n",
        "        self.rank = rank\n",
        "\n",
        "    def __str__(self):\n",
        "        \"\"\"Returns a human-readable string representation.\"\"\"\n",
        "        return '%s of %s' % (Card.rank_names[self.rank],\n",
        "                             Card.suit_names[self.suit])\n",
        "\n",
        "    def __eq__(self, other) -> bool:\n",
        "        \"\"\"Checks whether self and other have the same rank and suit.\n",
        "        \"\"\"\n",
        "        return self.suit == other.suit and self.rank == other.rank\n",
        "\n",
        "    def __lt__(self, other) -> bool:\n",
        "        \"\"\"Compares this card to other, first by suit, then rank.\n",
        "        \"\"\"\n",
        "        t1 = self.suit, self.rank\n",
        "        t2 = other.suit, other.rank\n",
        "        return t1 < t2\n",
        "    \n",
        "    def __repr__(self): return self.__str__()\n",
        "    \n",
        "    def foo(): pass"
      ],
      "execution_count": 4,
      "outputs": []
    },
    {
      "cell_type": "markdown",
      "metadata": {
        "id": "mZrgxiJSHAns"
      },
      "source": [
        "Card is a class that represents a single card in a deck of cards. For example:"
      ]
    },
    {
      "cell_type": "code",
      "metadata": {
        "colab": {
          "base_uri": "https://localhost:8080/"
        },
        "id": "WR4Su24hHCBG",
        "outputId": "dfa94c3d-8229-4f06-8159-83e32ee37f65"
      },
      "source": [
        "Card(suit=2, rank=11)"
      ],
      "execution_count": 5,
      "outputs": [
        {
          "output_type": "execute_result",
          "data": {
            "text/plain": [
              "Jack of Hearts"
            ]
          },
          "metadata": {
            "tags": []
          },
          "execution_count": 5
        }
      ]
    },
    {
      "cell_type": "code",
      "metadata": {
        "id": "McjYcQ_7G8xH"
      },
      "source": [
        "c = Card(suit=1, rank=3)\n",
        "assert str(c) == '3 of Diamonds'\n",
        "\n",
        "c2 = Card(suit=2, rank=11)\n",
        "assert str(c2) == 'Jack of Hearts'"
      ],
      "execution_count": 6,
      "outputs": []
    },
    {
      "cell_type": "code",
      "metadata": {
        "id": "WlE-W2XnHFyH"
      },
      "source": [
        "assert c2 > c"
      ],
      "execution_count": 7,
      "outputs": []
    },
    {
      "cell_type": "code",
      "metadata": {
        "colab": {
          "base_uri": "https://localhost:8080/",
          "height": 121
        },
        "id": "rOfvKHoxHH_g",
        "outputId": "988f93f6-0f29-45c7-e50e-151f6b7bf3b0"
      },
      "source": [
        "show_doc(Card.__eq__)"
      ],
      "execution_count": 9,
      "outputs": [
        {
          "output_type": "display_data",
          "data": {
            "text/markdown": "<h4 id=\"Card.__eq__\" class=\"doc_header\"><code>Card.__eq__</code><a href=\"__main__.py#L28\" class=\"source_link\" style=\"float:right\">[source]</a></h4>\n\n> <code>Card.__eq__</code>(**`other`**)\n\nChecks whether self and other have the same rank and suit.\n        ",
            "text/plain": [
              "<IPython.core.display.Markdown object>"
            ]
          },
          "metadata": {
            "tags": []
          }
        }
      ]
    },
    {
      "cell_type": "code",
      "metadata": {
        "id": "hvj6j2ipHLYx"
      },
      "source": [
        "card1 = Card(suit=1, rank=3)\n",
        "card2 = Card(suit=1, rank=3)\n",
        "assert card1 == card2"
      ],
      "execution_count": 10,
      "outputs": []
    },
    {
      "cell_type": "code",
      "metadata": {
        "colab": {
          "base_uri": "https://localhost:8080/"
        },
        "id": "ELhbgN5SHPOh",
        "outputId": "69549378-3591-464d-ba48-4a92924d653c"
      },
      "source": [
        "!git push origin master"
      ],
      "execution_count": 20,
      "outputs": [
        {
          "output_type": "stream",
          "text": [
            "Host key verification failed.\r\n",
            "fatal: Could not read from remote repository.\n",
            "\n",
            "Please make sure you have the correct access rights\n",
            "and the repository exists.\n"
          ],
          "name": "stdout"
        }
      ]
    },
    {
      "cell_type": "code",
      "metadata": {
        "id": "XyXDGtKxKDLv"
      },
      "source": [
        "!git remote set-url origin git@github.com:shanaka-desoysa/timeseries_feature_engineering.git"
      ],
      "execution_count": 18,
      "outputs": []
    },
    {
      "cell_type": "code",
      "metadata": {
        "colab": {
          "base_uri": "https://localhost:8080/"
        },
        "id": "LEL8W9XeKRGP",
        "outputId": "7e153e44-645f-4338-e960-e5d60476448f"
      },
      "source": [
        "!git fetch"
      ],
      "execution_count": 21,
      "outputs": [
        {
          "output_type": "stream",
          "text": [
            "Host key verification failed.\r\n",
            "fatal: Could not read from remote repository.\n",
            "\n",
            "Please make sure you have the correct access rights\n",
            "and the repository exists.\n"
          ],
          "name": "stdout"
        }
      ]
    },
    {
      "cell_type": "code",
      "metadata": {
        "id": "ZFMKvQ9BKrw0"
      },
      "source": [
        ""
      ],
      "execution_count": null,
      "outputs": []
    }
  ]
}