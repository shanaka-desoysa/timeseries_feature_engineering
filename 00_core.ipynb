{
  "nbformat": 4,
  "nbformat_minor": 0,
  "metadata": {
    "colab": {
      "name": "00_core.ipynb",
      "provenance": []
    },
    "kernelspec": {
      "display_name": "Python 3",
      "language": "python",
      "name": "python3"
    },
    "language_info": {
      "codemirror_mode": {
        "name": "ipython",
        "version": 3
      },
      "file_extension": ".py",
      "mimetype": "text/x-python",
      "name": "python",
      "nbconvert_exporter": "python",
      "pygments_lexer": "ipython3",
      "version": "3.8.5"
    }
  },
  "cells": [
    {
      "cell_type": "code",
      "metadata": {
        "id": "TkIb-jLAMyHc"
      },
      "source": [
        "#hide\n",
        "#skip\n",
        "! [ -e /content ] && pip install -Uqq fastai  # upgrade fastai on colab"
      ],
      "execution_count": null,
      "outputs": []
    },
    {
      "cell_type": "code",
      "metadata": {
        "id": "-JtjOzG5E5Oh"
      },
      "source": [
        "# default_exp core"
      ],
      "execution_count": null,
      "outputs": []
    },
    {
      "cell_type": "code",
      "metadata": {
        "id": "OeCH4wH6M5pN"
      },
      "source": [
        "#export\n",
        "from fastai.tabular.all import *"
      ],
      "execution_count": null,
      "outputs": []
    },
    {
      "cell_type": "code",
      "metadata": {
        "id": "5_Rzm5lPE5On"
      },
      "source": [
        "#hide\n",
        "from nbdev.showdoc import *"
      ],
      "execution_count": null,
      "outputs": []
    },
    {
      "cell_type": "markdown",
      "metadata": {
        "id": "JGtFaHvPE5On"
      },
      "source": [
        "# Time Series Feature Engineering Core\n",
        "\n",
        "> Basic functions for time series analysis."
      ]
    },
    {
      "cell_type": "code",
      "metadata": {
        "id": "KdjVjo9HLE0V"
      },
      "source": [
        "# from fastai.tabular.all import *\n",
        "# https://www.analyticsvidhya.com/blog/2019/12/6-powerful-feature-engineering-techniques-time-series/\n",
        "\n",
        "def add_lag_features(df, field_name, prefix=None, lag_periods=[1]):\n",
        "    \"Helper function that adds lag features relevant to the column `field_name` of `df`.\"\n",
        "    field = df[field_name]\n",
        "    prefix = ifnone(prefix, field_name)\n",
        "    for n in lag_periods: df[f'{prefix}-{n}p'] = df[field_name].shift(n)\n",
        "    return df\n",
        "\n",
        "def add_lag_percentage_gain_features(df, field_name, prefix=None, lag_periods=[1]):\n",
        "    \"Helper function that adds lag percentage gain features relevant to the column `field_name` of `df`.\"\n",
        "    field = df[field_name]\n",
        "    prefix = ifnone(prefix, field_name)\n",
        "    for n in lag_periods:\n",
        "        df[f'{prefix}-{n}p_PG'] = df[field_name]/df[field_name].shift(n)\n",
        "    return df\n",
        "\n",
        "def add_moving_average_features(df, field_name, prefix=None, windows=[3], weighted=True):\n",
        "    \"Helper function that adds moving average (rolling window) features relevant to the column `field_name` of `df`.\"\n",
        "    field = df[field_name]\n",
        "    prefix = ifnone(prefix, field_name)\n",
        "    for n in windows:\n",
        "        if weighted:\n",
        "            weights = np.arange(1, n + 1)\n",
        "            df[f'{prefix}_{n}p_MA'] = df[field_name].rolling(\n",
        "                window=n).apply(lambda x: np.dot(x, weights) /\n",
        "                                       weights.sum(), raw=True)\n",
        "        else:\n",
        "            df[f'{prefix}_{n}p_MA'] = df[field_name].rolling(window=n).mean()\n",
        "    return df\n",
        "\n",
        "def add_moving_average_percentage_gain_features(df, field_name, prefix=None, windows=[3], weighted=True):\n",
        "    \"Helper function that adds moving average (rolling window) percentage gain features relevant to the column `field_name` of `df`.\"\n",
        "    field = df[field_name]\n",
        "    prefix = ifnone(prefix, field_name)\n",
        "    for n in windows:\n",
        "        if weighted:\n",
        "            weights = np.arange(1, n + 1)\n",
        "            df[f'{prefix}_{n}p_MA_PG'] = df[field_name]/df[field_name].rolling(\n",
        "                window=n).apply(lambda x: np.dot(x, weights) /\n",
        "                                       weights.sum(), raw=True)\n",
        "        else:\n",
        "            df[f'{prefix}_{n}p_MA_PG'] = df[field_name]/df[field_name].rolling(window=n).mean()\n",
        "    return df\n",
        "\n",
        "def add_expanding_features(df, field_name, prefix=None, period=7):\n",
        "    \"Helper function that adds expanding features relevant to the column `field_name` of `df`.\"\n",
        "    field = df[field_name]\n",
        "    prefix = ifnone(prefix, field_name)\n",
        "    for n in windows:\n",
        "        df[f'{prefix}_{n}p_expanding'] = df[field_name].expanding(n).mean()\n",
        "    return df\n",
        "\n",
        "def add_trend_features(df, field_name, prefix=None, windows=[3]):\n",
        "    \"Helper function that adds trend features relevant to the column `field_name` of `df`.\"\n",
        "    field = df[field_name]\n",
        "    prefix = ifnone(prefix, field_name)\n",
        "    for n in windows:\n",
        "        df[f'{prefix}_{n}p_trend'] = (df[field_name]\n",
        "                .rolling(window=n)\n",
        "                .mean()\n",
        "                .diff()\n",
        "                .fillna(0))\n",
        "    return df"
      ],
      "execution_count": null,
      "outputs": []
    }
  ]
}